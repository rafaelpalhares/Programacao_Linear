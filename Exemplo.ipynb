{
  "nbformat": 4,
  "nbformat_minor": 0,
  "metadata": {
    "colab": {
      "name": "Exemplo ",
      "provenance": [],
      "collapsed_sections": [],
      "authorship_tag": "ABX9TyPtTMVZQzGICJtvY+HZ3xjQ",
      "include_colab_link": true
    },
    "kernelspec": {
      "name": "python3",
      "display_name": "Python 3"
    }
  },
  "cells": [
    {
      "cell_type": "markdown",
      "metadata": {
        "id": "view-in-github",
        "colab_type": "text"
      },
      "source": [
        "<a href=\"https://colab.research.google.com/github/rafaelpalhares/Programacao_Linear/blob/main/Exemplo.ipynb\" target=\"_parent\"><img src=\"https://colab.research.google.com/assets/colab-badge.svg\" alt=\"Open In Colab\"/></a>"
      ]
    },
    {
      "cell_type": "code",
      "metadata": {
        "id": "5P3d-qe6L2Dm",
        "outputId": "d8c8e502-2a50-470b-a7dc-364d3633496f",
        "colab": {
          "base_uri": "https://localhost:8080/",
          "height": 170
        }
      },
      "source": [
        "# Ezxemplo de Programação Linear # \n",
        "# Como calcular a solução gráfica do problema?  \n",
        "import sys\n",
        "!{sys.executable} -m pip install pulp"
      ],
      "execution_count": null,
      "outputs": [
        {
          "output_type": "stream",
          "text": [
            "Collecting pulp\n",
            "\u001b[?25l  Downloading https://files.pythonhosted.org/packages/89/0c/6d80f5f81a92d1733cc5ca180491b8a3cd5839e335627a0046c81b7d3d3d/PuLP-2.3.1-py3-none-any.whl (40.6MB)\n",
            "\u001b[K     |████████████████████████████████| 40.6MB 101kB/s \n",
            "\u001b[?25hCollecting amply>=0.1.2\n",
            "  Downloading https://files.pythonhosted.org/packages/f3/c5/dfa09dd2595a2ab2ab4e6fa7bebef9565812722e1980d04b0edce5032066/amply-0.1.4-py3-none-any.whl\n",
            "Requirement already satisfied: pyparsing in /usr/local/lib/python3.6/dist-packages (from amply>=0.1.2->pulp) (2.4.7)\n",
            "Requirement already satisfied: docutils>=0.3 in /usr/local/lib/python3.6/dist-packages (from amply>=0.1.2->pulp) (0.16)\n",
            "Installing collected packages: amply, pulp\n",
            "Successfully installed amply-0.1.4 pulp-2.3.1\n"
          ],
          "name": "stdout"
        }
      ]
    },
    {
      "cell_type": "code",
      "metadata": {
        "id": "WJ28WFHmMKUj",
        "outputId": "bd17561e-48f6-4529-9d58-8449b0e3114a",
        "colab": {
          "base_uri": "https://localhost:8080/",
          "height": 86
        }
      },
      "source": [
        "from pulp import*\n",
        "prob=LpProblem('Exemplo',LpMaximize)\n",
        "x1=LpVariable('Mercadoria A', lowBound=0, cat='Integer')\n",
        "x2=LpVariable('Mercadoria B', lowBound=0, cat='Integer')\n",
        "prob += 4.1*x1 + 5.4*x2 \n",
        "prob +=0.45*x1 + 0.35*x2 <=30\n",
        "prob += 20*x1 + 30*x2 <= 2000\n",
        "prob.solve() \n",
        "for v in prob.variables():\n",
        "    print(v.name,\"=\", v.varValue)\n",
        "print(\"Lucro máximo =\", value(prob.objective)) \n",
        "\n",
        "status=prob.solve()\n",
        "LpStatus[status]"
      ],
      "execution_count": null,
      "outputs": [
        {
          "output_type": "stream",
          "text": [
            "Mercadoria_A = 28.0\n",
            "Mercadoria_B = 48.0\n",
            "Lucro máximo = 374.0\n"
          ],
          "name": "stdout"
        },
        {
          "output_type": "execute_result",
          "data": {
            "application/vnd.google.colaboratory.intrinsic+json": {
              "type": "string"
            },
            "text/plain": [
              "'Optimal'"
            ]
          },
          "metadata": {
            "tags": []
          },
          "execution_count": 11
        }
      ]
    },
    {
      "cell_type": "code",
      "metadata": {
        "id": "OCM80qfdNRNo",
        "outputId": "99e6c34a-1f4b-470f-e09f-0de9367f8d5f",
        "colab": {
          "base_uri": "https://localhost:8080/",
          "height": 136
        }
      },
      "source": [
        "!pip install matplotlib"
      ],
      "execution_count": null,
      "outputs": [
        {
          "output_type": "stream",
          "text": [
            "Requirement already satisfied: matplotlib in /usr/local/lib/python3.6/dist-packages (3.2.2)\n",
            "Requirement already satisfied: kiwisolver>=1.0.1 in /usr/local/lib/python3.6/dist-packages (from matplotlib) (1.2.0)\n",
            "Requirement already satisfied: cycler>=0.10 in /usr/local/lib/python3.6/dist-packages (from matplotlib) (0.10.0)\n",
            "Requirement already satisfied: python-dateutil>=2.1 in /usr/local/lib/python3.6/dist-packages (from matplotlib) (2.8.1)\n",
            "Requirement already satisfied: numpy>=1.11 in /usr/local/lib/python3.6/dist-packages (from matplotlib) (1.18.5)\n",
            "Requirement already satisfied: pyparsing!=2.0.4,!=2.1.2,!=2.1.6,>=2.0.1 in /usr/local/lib/python3.6/dist-packages (from matplotlib) (2.4.7)\n",
            "Requirement already satisfied: six in /usr/local/lib/python3.6/dist-packages (from cycler>=0.10->matplotlib) (1.15.0)\n"
          ],
          "name": "stdout"
        }
      ]
    },
    {
      "cell_type": "code",
      "metadata": {
        "id": "4CaKrEjlQIAn",
        "outputId": "bbb56a74-ddfd-4c8a-f789-d04bd2e53676",
        "colab": {
          "base_uri": "https://localhost:8080/",
          "height": 34
        }
      },
      "source": [
        "import matplotlib.pyplot\n",
        "from matplotlib.pyplot import *\n",
        "%run exemplo_feasible.py"
      ],
      "execution_count": null,
      "outputs": [
        {
          "output_type": "stream",
          "text": [
            "ERROR:root:File `'exemplo_feasible.py'` not found.\n"
          ],
          "name": "stderr"
        }
      ]
    },
    {
      "cell_type": "code",
      "metadata": {
        "id": "oHbhqc_jhpys"
      },
      "source": [
        "https://github.com/marytaylor/Solving-a-linear-program-graphically-with-Python/blob/master/Solving%20a%20linear%20program%20graphically%20with%20Python.ipynb \n",
        "\n",
        "https://www.youtube.com/watch?v=MmazMos4npE \n"
      ],
      "execution_count": null,
      "outputs": []
    }
  ]
}